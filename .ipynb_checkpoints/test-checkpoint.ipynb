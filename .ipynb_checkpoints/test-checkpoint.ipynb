{
 "cells": [
  {
   "cell_type": "code",
   "execution_count": 14,
   "metadata": {},
   "outputs": [],
   "source": [
    "def si(nums, left, right, tar):\n",
    "    if not left < right:\n",
    "        if nums[left] == tar:\n",
    "            return left\n",
    "        else:\n",
    "            return left+1\n",
    "    if nums[left] > tar:\n",
    "        return left\n",
    "    cent = int((left+right)/2)\n",
    "    if nums[cent] < tar:\n",
    "        return si(nums, cent+1, right, tar)\n",
    "    elif nums[cent] > tar:\n",
    "        return si(nums, left, cent-1, tar)\n",
    "    else:\n",
    "        return cent"
   ]
  },
  {
   "cell_type": "code",
   "execution_count": 20,
   "metadata": {},
   "outputs": [
    {
     "name": "stdout",
     "output_type": "stream",
     "text": [
      "4\n"
     ]
    }
   ],
   "source": [
    "nums = [1,3,5,6]\n",
    "t = 6\n",
    "out = si(nums, 0, len(nums)-1, t)\n",
    "print(out)"
   ]
  }
 ],
 "metadata": {
  "kernelspec": {
   "display_name": "Python 3",
   "language": "python",
   "name": "python3"
  },
  "language_info": {
   "codemirror_mode": {
    "name": "ipython",
    "version": 3
   },
   "file_extension": ".py",
   "mimetype": "text/x-python",
   "name": "python",
   "nbconvert_exporter": "python",
   "pygments_lexer": "ipython3",
   "version": "3.6.4"
  }
 },
 "nbformat": 4,
 "nbformat_minor": 2
}
